{
 "cells": [
  {
   "cell_type": "markdown",
   "metadata": {},
   "source": [
    "## Forest Fire Impact Prediction"
   ]
  },
  {
   "cell_type": "markdown",
   "metadata": {},
   "source": [
    "Forest fires can be a friend and a foe. In the right place at the right time, forest fire can create many environmental benefits, such as reducing grass, brush, and trees that can fuel large and severe forest fires and improving wildlife habitat. In the wrong place at the wrong time, forest fires can wreak havoc, threatening lives, homes, communities, and natural and cultural resources.\n",
    "\n",
    "In this project, our aim is to predict the burned area of forest fires, in the northeast region of Portugal. Based on the the spatial, temporal, and weather variables where the fire is spotted.\n",
    "\n",
    "This prediction can be used for calculating the forces sent to the incident and deciding the urgency of the situation.\n",
    "\n",
    "This program is designed to use geographical (Fire location), temporal (Month and Day), Fire Weather varibles () and weather variables (RH, Temp, Rain, Wind) to predict the area burned by forest fires. Data were obtained from the UCI Machine Learning database (http://archive.ics.uci.edu/ml/datasets/Forest+Fires) and contain details for 517 fires found in the Montesinho Natural Park in Portugal.\n",
    "\n",
    "1. X - x-axis spatial coordinate within the Montesinho park map: 1 to 9\n",
    "2. Y - y-axis spatial coordinate within the Montesinho park map: 2 to 9\n",
    "3. month - month of the year: \"jan\" to \"dec\" \n",
    "4. day - day of the week: \"mon\" to \"sun\"\n",
    "5. FFMC - FFMC index from the FWI system: 18.7 to 96.20\n",
    "6. DMC - DMC index from the FWI system: 1.1 to 291.3 \n",
    "7. DC - DC index from the FWI system: 7.9 to 860.6 \n",
    "8. ISI - ISI index from the FWI system: 0.0 to 56.10\n",
    "9. temp - temperature in Celsius degrees: 2.2 to 33.30\n",
    "10. RH - relative humidity in %: 15.0 to 100\n",
    "11. wind - wind speed in km/h: 0.40 to 9.40 \n",
    "12. rain - outside rain in mm/m2 : 0.0 to 6.4 \n",
    "13. area - the burned area of the forest (in ha): 0.00 to 1090.84 "
   ]
  },
  {
   "cell_type": "markdown",
   "metadata": {
    "id": "YQgho7IysX3R"
   },
   "source": [
    "**Importing Libraries**"
   ]
  },
  {
   "cell_type": "code",
   "execution_count": 2,
   "metadata": {
    "id": "492TzUVqsNEA"
   },
   "outputs": [
    {
     "name": "stderr",
     "output_type": "stream",
     "text": [
      "Unable to create process using 'C:\\Users\\Aparna Akula\\anaconda3\\python.exe \"C:\\Users\\Aparna Akula\\anaconda3\\Scripts\\pip-script.py\" install mlxtend'\n"
     ]
    }
   ],
   "source": [
    "import pandas as pd\n",
    "import numpy as np\n",
    "import matplotlib.pyplot as plt\n",
    "import seaborn as sns\n",
    "plt.style.use('ggplot')\n",
    "\n",
    "from scipy.stats import zscore\n",
    "import statsmodels.api as sm\n",
    "from statsmodels.formula.api import ols\n",
    "import statsmodels.stats.api as sms\n",
    "from statsmodels.compat import lzip\n",
    "from statsmodels.stats.stattools import durbin_watson\n",
    "from sklearn.linear_model import LinearRegression,RidgeCV,LassoCV,ElasticNetCV\n",
    "from sklearn.feature_selection import RFECV\n",
    "!pip install mlxtend\n",
    "from mlxtend.feature_selection import SequentialFeatureSelector as sfs\n",
    "from mlxtend.plotting import plot_sequential_feature_selection as plot_sfs"
   ]
  },
  {
   "cell_type": "markdown",
   "metadata": {
    "id": "DcsIKs5FsdEi"
   },
   "source": [
    "**Load and describe data**"
   ]
  },
  {
   "cell_type": "code",
   "execution_count": 3,
   "metadata": {
    "colab": {
     "base_uri": "https://localhost:8080/",
     "height": 328
    },
    "id": "Xd5io8h5sNKN",
    "outputId": "89fdc6c6-3eab-4cf5-8ff7-6144c6be928e"
   },
   "outputs": [],
   "source": [
    "forest_fires = pd.read_csv(\"forestfires.csv\")"
   ]
  },
  {
   "cell_type": "code",
   "execution_count": 4,
   "metadata": {
    "colab": {
     "base_uri": "https://localhost:8080/"
    },
    "id": "I1LQRnSMsNNq",
    "outputId": "112fe69c-8dba-481c-dc33-5230fb8c380e"
   },
   "outputs": [
    {
     "data": {
      "text/plain": [
       "X          int64\n",
       "Y          int64\n",
       "month     object\n",
       "day       object\n",
       "FFMC     float64\n",
       "DMC      float64\n",
       "DC       float64\n",
       "ISI      float64\n",
       "temp     float64\n",
       "RH         int64\n",
       "wind     float64\n",
       "rain     float64\n",
       "area     float64\n",
       "dtype: object"
      ]
     },
     "execution_count": 4,
     "metadata": {},
     "output_type": "execute_result"
    }
   ],
   "source": [
    "forest_fires.dtypes"
   ]
  },
  {
   "cell_type": "code",
   "execution_count": 5,
   "metadata": {
    "colab": {
     "base_uri": "https://localhost:8080/",
     "height": 206
    },
    "id": "FRBRfBIivfJf",
    "outputId": "98a5cb6a-be58-414e-9012-636d33dd8b1f"
   },
   "outputs": [
    {
     "data": {
      "text/html": [
       "<div>\n",
       "<style scoped>\n",
       "    .dataframe tbody tr th:only-of-type {\n",
       "        vertical-align: middle;\n",
       "    }\n",
       "\n",
       "    .dataframe tbody tr th {\n",
       "        vertical-align: top;\n",
       "    }\n",
       "\n",
       "    .dataframe thead th {\n",
       "        text-align: right;\n",
       "    }\n",
       "</style>\n",
       "<table border=\"1\" class=\"dataframe\">\n",
       "  <thead>\n",
       "    <tr style=\"text-align: right;\">\n",
       "      <th></th>\n",
       "      <th>X</th>\n",
       "      <th>Y</th>\n",
       "      <th>month</th>\n",
       "      <th>day</th>\n",
       "      <th>FFMC</th>\n",
       "      <th>DMC</th>\n",
       "      <th>DC</th>\n",
       "      <th>ISI</th>\n",
       "      <th>temp</th>\n",
       "      <th>RH</th>\n",
       "      <th>wind</th>\n",
       "      <th>rain</th>\n",
       "      <th>area</th>\n",
       "    </tr>\n",
       "  </thead>\n",
       "  <tbody>\n",
       "    <tr>\n",
       "      <th>0</th>\n",
       "      <td>7</td>\n",
       "      <td>5</td>\n",
       "      <td>mar</td>\n",
       "      <td>fri</td>\n",
       "      <td>86.2</td>\n",
       "      <td>26.2</td>\n",
       "      <td>94.3</td>\n",
       "      <td>5.1</td>\n",
       "      <td>8.2</td>\n",
       "      <td>51</td>\n",
       "      <td>6.7</td>\n",
       "      <td>0.0</td>\n",
       "      <td>0.0</td>\n",
       "    </tr>\n",
       "    <tr>\n",
       "      <th>1</th>\n",
       "      <td>7</td>\n",
       "      <td>4</td>\n",
       "      <td>oct</td>\n",
       "      <td>tue</td>\n",
       "      <td>90.6</td>\n",
       "      <td>35.4</td>\n",
       "      <td>669.1</td>\n",
       "      <td>6.7</td>\n",
       "      <td>18.0</td>\n",
       "      <td>33</td>\n",
       "      <td>0.9</td>\n",
       "      <td>0.0</td>\n",
       "      <td>0.0</td>\n",
       "    </tr>\n",
       "    <tr>\n",
       "      <th>2</th>\n",
       "      <td>7</td>\n",
       "      <td>4</td>\n",
       "      <td>oct</td>\n",
       "      <td>sat</td>\n",
       "      <td>90.6</td>\n",
       "      <td>43.7</td>\n",
       "      <td>686.9</td>\n",
       "      <td>6.7</td>\n",
       "      <td>14.6</td>\n",
       "      <td>33</td>\n",
       "      <td>1.3</td>\n",
       "      <td>0.0</td>\n",
       "      <td>0.0</td>\n",
       "    </tr>\n",
       "    <tr>\n",
       "      <th>3</th>\n",
       "      <td>8</td>\n",
       "      <td>6</td>\n",
       "      <td>mar</td>\n",
       "      <td>fri</td>\n",
       "      <td>91.7</td>\n",
       "      <td>33.3</td>\n",
       "      <td>77.5</td>\n",
       "      <td>9.0</td>\n",
       "      <td>8.3</td>\n",
       "      <td>97</td>\n",
       "      <td>4.0</td>\n",
       "      <td>0.2</td>\n",
       "      <td>0.0</td>\n",
       "    </tr>\n",
       "    <tr>\n",
       "      <th>4</th>\n",
       "      <td>8</td>\n",
       "      <td>6</td>\n",
       "      <td>mar</td>\n",
       "      <td>sun</td>\n",
       "      <td>89.3</td>\n",
       "      <td>51.3</td>\n",
       "      <td>102.2</td>\n",
       "      <td>9.6</td>\n",
       "      <td>11.4</td>\n",
       "      <td>99</td>\n",
       "      <td>1.8</td>\n",
       "      <td>0.0</td>\n",
       "      <td>0.0</td>\n",
       "    </tr>\n",
       "  </tbody>\n",
       "</table>\n",
       "</div>"
      ],
      "text/plain": [
       "   X  Y month  day  FFMC   DMC     DC  ISI  temp  RH  wind  rain  area\n",
       "0  7  5   mar  fri  86.2  26.2   94.3  5.1   8.2  51   6.7   0.0   0.0\n",
       "1  7  4   oct  tue  90.6  35.4  669.1  6.7  18.0  33   0.9   0.0   0.0\n",
       "2  7  4   oct  sat  90.6  43.7  686.9  6.7  14.6  33   1.3   0.0   0.0\n",
       "3  8  6   mar  fri  91.7  33.3   77.5  9.0   8.3  97   4.0   0.2   0.0\n",
       "4  8  6   mar  sun  89.3  51.3  102.2  9.6  11.4  99   1.8   0.0   0.0"
      ]
     },
     "execution_count": 5,
     "metadata": {},
     "output_type": "execute_result"
    }
   ],
   "source": [
    "forest_fires.head()"
   ]
  },
  {
   "cell_type": "code",
   "execution_count": 6,
   "metadata": {
    "colab": {
     "base_uri": "https://localhost:8080/",
     "height": 300
    },
    "id": "OXcdhYucuOqy",
    "outputId": "072fb42e-85a2-487f-d582-6d87c831784f"
   },
   "outputs": [
    {
     "data": {
      "text/html": [
       "<div>\n",
       "<style scoped>\n",
       "    .dataframe tbody tr th:only-of-type {\n",
       "        vertical-align: middle;\n",
       "    }\n",
       "\n",
       "    .dataframe tbody tr th {\n",
       "        vertical-align: top;\n",
       "    }\n",
       "\n",
       "    .dataframe thead th {\n",
       "        text-align: right;\n",
       "    }\n",
       "</style>\n",
       "<table border=\"1\" class=\"dataframe\">\n",
       "  <thead>\n",
       "    <tr style=\"text-align: right;\">\n",
       "      <th></th>\n",
       "      <th>X</th>\n",
       "      <th>Y</th>\n",
       "      <th>FFMC</th>\n",
       "      <th>DMC</th>\n",
       "      <th>DC</th>\n",
       "      <th>ISI</th>\n",
       "      <th>temp</th>\n",
       "      <th>RH</th>\n",
       "      <th>wind</th>\n",
       "      <th>rain</th>\n",
       "      <th>area</th>\n",
       "    </tr>\n",
       "  </thead>\n",
       "  <tbody>\n",
       "    <tr>\n",
       "      <th>count</th>\n",
       "      <td>517.000000</td>\n",
       "      <td>517.000000</td>\n",
       "      <td>517.000000</td>\n",
       "      <td>517.000000</td>\n",
       "      <td>517.000000</td>\n",
       "      <td>517.000000</td>\n",
       "      <td>517.000000</td>\n",
       "      <td>517.000000</td>\n",
       "      <td>517.000000</td>\n",
       "      <td>517.000000</td>\n",
       "      <td>517.000000</td>\n",
       "    </tr>\n",
       "    <tr>\n",
       "      <th>mean</th>\n",
       "      <td>4.669246</td>\n",
       "      <td>4.299807</td>\n",
       "      <td>90.644681</td>\n",
       "      <td>110.872340</td>\n",
       "      <td>547.940039</td>\n",
       "      <td>9.021663</td>\n",
       "      <td>18.889168</td>\n",
       "      <td>44.288201</td>\n",
       "      <td>4.017602</td>\n",
       "      <td>0.021663</td>\n",
       "      <td>12.847292</td>\n",
       "    </tr>\n",
       "    <tr>\n",
       "      <th>std</th>\n",
       "      <td>2.313778</td>\n",
       "      <td>1.229900</td>\n",
       "      <td>5.520111</td>\n",
       "      <td>64.046482</td>\n",
       "      <td>248.066192</td>\n",
       "      <td>4.559477</td>\n",
       "      <td>5.806625</td>\n",
       "      <td>16.317469</td>\n",
       "      <td>1.791653</td>\n",
       "      <td>0.295959</td>\n",
       "      <td>63.655818</td>\n",
       "    </tr>\n",
       "    <tr>\n",
       "      <th>min</th>\n",
       "      <td>1.000000</td>\n",
       "      <td>2.000000</td>\n",
       "      <td>18.700000</td>\n",
       "      <td>1.100000</td>\n",
       "      <td>7.900000</td>\n",
       "      <td>0.000000</td>\n",
       "      <td>2.200000</td>\n",
       "      <td>15.000000</td>\n",
       "      <td>0.400000</td>\n",
       "      <td>0.000000</td>\n",
       "      <td>0.000000</td>\n",
       "    </tr>\n",
       "    <tr>\n",
       "      <th>25%</th>\n",
       "      <td>3.000000</td>\n",
       "      <td>4.000000</td>\n",
       "      <td>90.200000</td>\n",
       "      <td>68.600000</td>\n",
       "      <td>437.700000</td>\n",
       "      <td>6.500000</td>\n",
       "      <td>15.500000</td>\n",
       "      <td>33.000000</td>\n",
       "      <td>2.700000</td>\n",
       "      <td>0.000000</td>\n",
       "      <td>0.000000</td>\n",
       "    </tr>\n",
       "    <tr>\n",
       "      <th>50%</th>\n",
       "      <td>4.000000</td>\n",
       "      <td>4.000000</td>\n",
       "      <td>91.600000</td>\n",
       "      <td>108.300000</td>\n",
       "      <td>664.200000</td>\n",
       "      <td>8.400000</td>\n",
       "      <td>19.300000</td>\n",
       "      <td>42.000000</td>\n",
       "      <td>4.000000</td>\n",
       "      <td>0.000000</td>\n",
       "      <td>0.520000</td>\n",
       "    </tr>\n",
       "    <tr>\n",
       "      <th>75%</th>\n",
       "      <td>7.000000</td>\n",
       "      <td>5.000000</td>\n",
       "      <td>92.900000</td>\n",
       "      <td>142.400000</td>\n",
       "      <td>713.900000</td>\n",
       "      <td>10.800000</td>\n",
       "      <td>22.800000</td>\n",
       "      <td>53.000000</td>\n",
       "      <td>4.900000</td>\n",
       "      <td>0.000000</td>\n",
       "      <td>6.570000</td>\n",
       "    </tr>\n",
       "    <tr>\n",
       "      <th>max</th>\n",
       "      <td>9.000000</td>\n",
       "      <td>9.000000</td>\n",
       "      <td>96.200000</td>\n",
       "      <td>291.300000</td>\n",
       "      <td>860.600000</td>\n",
       "      <td>56.100000</td>\n",
       "      <td>33.300000</td>\n",
       "      <td>100.000000</td>\n",
       "      <td>9.400000</td>\n",
       "      <td>6.400000</td>\n",
       "      <td>1090.840000</td>\n",
       "    </tr>\n",
       "  </tbody>\n",
       "</table>\n",
       "</div>"
      ],
      "text/plain": [
       "                X           Y        FFMC         DMC          DC         ISI  \\\n",
       "count  517.000000  517.000000  517.000000  517.000000  517.000000  517.000000   \n",
       "mean     4.669246    4.299807   90.644681  110.872340  547.940039    9.021663   \n",
       "std      2.313778    1.229900    5.520111   64.046482  248.066192    4.559477   \n",
       "min      1.000000    2.000000   18.700000    1.100000    7.900000    0.000000   \n",
       "25%      3.000000    4.000000   90.200000   68.600000  437.700000    6.500000   \n",
       "50%      4.000000    4.000000   91.600000  108.300000  664.200000    8.400000   \n",
       "75%      7.000000    5.000000   92.900000  142.400000  713.900000   10.800000   \n",
       "max      9.000000    9.000000   96.200000  291.300000  860.600000   56.100000   \n",
       "\n",
       "             temp          RH        wind        rain         area  \n",
       "count  517.000000  517.000000  517.000000  517.000000   517.000000  \n",
       "mean    18.889168   44.288201    4.017602    0.021663    12.847292  \n",
       "std      5.806625   16.317469    1.791653    0.295959    63.655818  \n",
       "min      2.200000   15.000000    0.400000    0.000000     0.000000  \n",
       "25%     15.500000   33.000000    2.700000    0.000000     0.000000  \n",
       "50%     19.300000   42.000000    4.000000    0.000000     0.520000  \n",
       "75%     22.800000   53.000000    4.900000    0.000000     6.570000  \n",
       "max     33.300000  100.000000    9.400000    6.400000  1090.840000  "
      ]
     },
     "execution_count": 6,
     "metadata": {},
     "output_type": "execute_result"
    }
   ],
   "source": [
    "forest_fires.describe()"
   ]
  },
  {
   "cell_type": "markdown",
   "metadata": {
    "id": "Wkm6Y_xauo68"
   },
   "source": [
    "**Checking for Missing Values**"
   ]
  },
  {
   "cell_type": "code",
   "execution_count": 7,
   "metadata": {
    "colab": {
     "base_uri": "https://localhost:8080/"
    },
    "id": "kX5kTLExumJT",
    "outputId": "f8d070dc-8f57-418a-d5cb-fcbd9f5a463a"
   },
   "outputs": [
    {
     "data": {
      "text/plain": [
       "X        0\n",
       "Y        0\n",
       "month    0\n",
       "day      0\n",
       "FFMC     0\n",
       "DMC      0\n",
       "DC       0\n",
       "ISI      0\n",
       "temp     0\n",
       "RH       0\n",
       "wind     0\n",
       "rain     0\n",
       "area     0\n",
       "dtype: int64"
      ]
     },
     "execution_count": 7,
     "metadata": {},
     "output_type": "execute_result"
    }
   ],
   "source": [
    "forest_fires.isna().sum()"
   ]
  },
  {
   "cell_type": "code",
   "execution_count": 8,
   "metadata": {
    "id": "6CmnGT_b31yK"
   },
   "outputs": [],
   "source": [
    "plt.rcParams[\"figure.figsize\"] = 9,5"
   ]
  },
  {
   "cell_type": "markdown",
   "metadata": {
    "id": "Z_rKGZD-w5ut"
   },
   "source": [
    "**Exploratory Data Analysis**"
   ]
  },
  {
   "cell_type": "markdown",
   "metadata": {
    "id": "S1xgSuZRyZ2O"
   },
   "source": [
    "**1.Univariate Analysis**"
   ]
  },
  {
   "cell_type": "markdown",
   "metadata": {
    "id": "3QnxXaON2Z_g"
   },
   "source": [
    "Lets begin with the target variable as Area"
   ]
  },
  {
   "cell_type": "code",
   "execution_count": 9,
   "metadata": {
    "colab": {
     "base_uri": "https://localhost:8080/",
     "height": 374
    },
    "id": "m-NQ09Ysydjg",
    "outputId": "480b36f9-df0d-4db7-b463-145700c8086c"
   },
   "outputs": [
    {
     "name": "stdout",
     "output_type": "stream",
     "text": [
      "Skew: 12.846933533934868\n",
      "Kurtosis: 194.1407210942299\n"
     ]
    },
    {
     "data": {
      "image/png": "[encoded data removed]",
      "text/plain": [
       "<Figure size 1152x360 with 1 Axes>"
      ]
     },
     "metadata": {},
     "output_type": "display_data"
    }
   ],
   "source": [
    "plt.figure(figsize=(16,5))\n",
    "target = 'area'\n",
    "print(\"Skew: {}\".format(forest_fires[target].skew()))\n",
    "print(\"Kurtosis: {}\".format(forest_fires[target].kurtosis()))\n",
    "ax = sns.kdeplot(forest_fires[target],shade=True,color='b')\n",
    "plt.xticks([i for i in range(0,1200,50)])\n",
    "plt.show()"
   ]
  },
  {
   "cell_type": "code",
   "execution_count": 10,
   "metadata": {
    "colab": {
     "base_uri": "https://localhost:8080/",
     "height": 392
    },
    "id": "j9SEgUDUu7rp",
    "outputId": "51ddc237-84d9-483f-b7f5-580f9780bc10"
   },
   "outputs": [
    {
     "name": "stderr",
     "output_type": "stream",
     "text": [
      "C:\\Users\\Aparna Akula\\anaconda3\\lib\\site-packages\\seaborn\\_decorators.py:36: FutureWarning: Pass the following variable as a keyword arg: x. From version 0.12, the only valid positional argument will be `data`, and passing other arguments without an explicit keyword will result in an error or misinterpretation.\n",
      "  warnings.warn(\n"
     ]
    },
    {
     "data": {
      "image/png": "[encoded data removed]",
      "text/plain": [
       "<Figure size 648x360 with 1 Axes>"
      ]
     },
     "metadata": {},
     "output_type": "display_data"
    }
   ],
   "source": [
    "ax = sns.boxplot(forest_fires[target])"
   ]
  },
  {
   "cell_type": "markdown",
   "metadata": {
    "id": "3Dv-O8hr6DS2"
   },
   "source": [
    "Observations:-\n",
    "*   The data is highly skewed with a value of +12.84 and huge kurtosis value of 194.\n",
    "*   It also tells you that majority of the forest fires do not cover a large area, most of the damaged area is under 50 hectares of land.\n",
    "*   There are 4 outlier instances in our area  columns\n",
    "\n",
    "\n",
    "\n"
   ]
  },
  {
   "cell_type": "code",
   "execution_count": 11,
   "metadata": {
    "colab": {
     "base_uri": "https://localhost:8080/",
     "height": 174
    },
    "id": "OTSDGPMC4gi6",
    "outputId": "cecb58fd-6381-4f1d-8b50-d370a0660cb1"
   },
   "outputs": [
    {
     "data": {
      "text/html": [
       "<div>\n",
       "<style scoped>\n",
       "    .dataframe tbody tr th:only-of-type {\n",
       "        vertical-align: middle;\n",
       "    }\n",
       "\n",
       "    .dataframe tbody tr th {\n",
       "        vertical-align: top;\n",
       "    }\n",
       "\n",
       "    .dataframe thead th {\n",
       "        text-align: right;\n",
       "    }\n",
       "</style>\n",
       "<table border=\"1\" class=\"dataframe\">\n",
       "  <thead>\n",
       "    <tr style=\"text-align: right;\">\n",
       "      <th></th>\n",
       "      <th>X</th>\n",
       "      <th>Y</th>\n",
       "      <th>month</th>\n",
       "      <th>day</th>\n",
       "      <th>FFMC</th>\n",
       "      <th>DMC</th>\n",
       "      <th>DC</th>\n",
       "      <th>ISI</th>\n",
       "      <th>temp</th>\n",
       "      <th>RH</th>\n",
       "      <th>wind</th>\n",
       "      <th>rain</th>\n",
       "      <th>area</th>\n",
       "    </tr>\n",
       "  </thead>\n",
       "  <tbody>\n",
       "    <tr>\n",
       "      <th>237</th>\n",
       "      <td>1</td>\n",
       "      <td>2</td>\n",
       "      <td>sep</td>\n",
       "      <td>tue</td>\n",
       "      <td>91.0</td>\n",
       "      <td>129.5</td>\n",
       "      <td>692.6</td>\n",
       "      <td>7.0</td>\n",
       "      <td>18.8</td>\n",
       "      <td>40</td>\n",
       "      <td>2.2</td>\n",
       "      <td>0.0</td>\n",
       "      <td>212.88</td>\n",
       "    </tr>\n",
       "    <tr>\n",
       "      <th>238</th>\n",
       "      <td>6</td>\n",
       "      <td>5</td>\n",
       "      <td>sep</td>\n",
       "      <td>sat</td>\n",
       "      <td>92.5</td>\n",
       "      <td>121.1</td>\n",
       "      <td>674.4</td>\n",
       "      <td>8.6</td>\n",
       "      <td>25.1</td>\n",
       "      <td>27</td>\n",
       "      <td>4.0</td>\n",
       "      <td>0.0</td>\n",
       "      <td>1090.84</td>\n",
       "    </tr>\n",
       "    <tr>\n",
       "      <th>415</th>\n",
       "      <td>8</td>\n",
       "      <td>6</td>\n",
       "      <td>aug</td>\n",
       "      <td>thu</td>\n",
       "      <td>94.8</td>\n",
       "      <td>222.4</td>\n",
       "      <td>698.6</td>\n",
       "      <td>13.9</td>\n",
       "      <td>27.5</td>\n",
       "      <td>27</td>\n",
       "      <td>4.9</td>\n",
       "      <td>0.0</td>\n",
       "      <td>746.28</td>\n",
       "    </tr>\n",
       "    <tr>\n",
       "      <th>479</th>\n",
       "      <td>7</td>\n",
       "      <td>4</td>\n",
       "      <td>jul</td>\n",
       "      <td>mon</td>\n",
       "      <td>89.2</td>\n",
       "      <td>103.9</td>\n",
       "      <td>431.6</td>\n",
       "      <td>6.4</td>\n",
       "      <td>22.6</td>\n",
       "      <td>57</td>\n",
       "      <td>4.9</td>\n",
       "      <td>0.0</td>\n",
       "      <td>278.53</td>\n",
       "    </tr>\n",
       "  </tbody>\n",
       "</table>\n",
       "</div>"
      ],
      "text/plain": [
       "     X  Y month  day  FFMC    DMC     DC   ISI  temp  RH  wind  rain     area\n",
       "237  1  2   sep  tue  91.0  129.5  692.6   7.0  18.8  40   2.2   0.0   212.88\n",
       "238  6  5   sep  sat  92.5  121.1  674.4   8.6  25.1  27   4.0   0.0  1090.84\n",
       "415  8  6   aug  thu  94.8  222.4  698.6  13.9  27.5  27   4.9   0.0   746.28\n",
       "479  7  4   jul  mon  89.2  103.9  431.6   6.4  22.6  57   4.9   0.0   278.53"
      ]
     },
     "execution_count": 11,
     "metadata": {},
     "output_type": "execute_result"
    }
   ],
   "source": [
    "#Outlier points based on area\n",
    "area_outliers = forest_fires[abs(zscore(forest_fires[target])) >= 3]\n",
    "area_outliers"
   ]
  },
  {
   "cell_type": "markdown",
   "metadata": {},
   "source": [
    "There are 4 rows as outliers condisering with area"
   ]
  },
  {
   "cell_type": "markdown",
   "metadata": {
    "id": "7tSekJgf_F4m"
   },
   "source": [
    "Independent Columns"
   ]
  },
  {
   "cell_type": "code",
   "execution_count": 12,
   "metadata": {
    "colab": {
     "base_uri": "https://localhost:8080/"
    },
    "id": "tk2nUtW59pv6",
    "outputId": "27450897-bb17-474c-e8e4-62006caa60b0"
   },
   "outputs": [
    {
     "ename": "SyntaxError",
     "evalue": "invalid syntax (Temp/ipykernel_21576/3157660214.py, line 2)",
     "output_type": "error",
     "traceback": [
      "\u001b[1;36m  File \u001b[1;32m\"C:\\Users\\APARNA~1\\AppData\\Local\\Temp/ipykernel_21576/3157660214.py\"\u001b[1;36m, line \u001b[1;32m2\u001b[0m\n\u001b[1;33m    cat_columns = forest_fires_new.select_dtypes(include='object').\u001b[0m\n\u001b[1;37m                                                                   ^\u001b[0m\n\u001b[1;31mSyntaxError\u001b[0m\u001b[1;31m:\u001b[0m invalid syntax\n"
     ]
    }
   ],
   "source": [
    "forest_fires_new = forest_fires.drop(columns=target)\n",
    "cat_columns = forest_fires_new.select_dtypes(include='object').\n",
    "                                            columns.tolist()\n",
    "num_columns = forest_fires_new.select_dtypes(exclude='object').\n",
    "                                            columns.tolist()\n",
    "\n",
    "cat_columns,num_columns"
   ]
  },
  {
   "cell_type": "markdown",
   "metadata": {
    "id": "oVWieXRj_JgE"
   },
   "source": [
    "Categorical Columns"
   ]
  },
  {
   "cell_type": "code",
   "execution_count": null,
   "metadata": {
    "colab": {
     "base_uri": "https://localhost:8080/",
     "height": 657
    },
    "id": "i9l7Wd7W-xGV",
    "outputId": "f5e798d6-b167-41f2-b7d0-37b49ee6ed20"
   },
   "outputs": [],
   "source": [
    "#analyzing categorical columns\n",
    "#Number of ForesFires occured per month and day\n",
    "plt.figure(figsize=(13,9))\n",
    "for i,col in enumerate(cat_columns,1):\n",
    "    plt.subplot(2,2,i)\n",
    "    sns.countplot(data=forest_fires_new, y=col)\n",
    "    plt.subplot(2,2,i+2)\n",
    "    forest_fires[col].value_counts(normalize=True).plot.bar()\n",
    "    plt.ylabel(col)\n",
    "    plt.xlabel('% distribution per category')\n",
    "plt.tight_layout()\n",
    "plt.show()"
   ]
  },
  {
   "cell_type": "markdown",
   "metadata": {
    "id": "wSrP_ZzkwSLf"
   },
   "source": [
    "Observations:-\n",
    "*   The highest number of fires occured in the month of August and September.\n",
    "*   In case of days, sunday and fridays have more number of fires. \n",
    "\n"
   ]
  },
  {
   "cell_type": "markdown",
   "metadata": {
    "id": "oB3LnIhfEGNU"
   },
   "source": [
    "Numerical Columns"
   ]
  },
  {
   "cell_type": "code",
   "execution_count": null,
   "metadata": {
    "colab": {
     "base_uri": "https://localhost:8080/",
     "height": 1000
    },
    "id": "8AlZ6HSzCqsg",
    "outputId": "3e3fb57c-b7a2-44ab-ce56-e4298efe0f94"
   },
   "outputs": [],
   "source": [
    "plt.figure(figsize=(18,40))\n",
    "for i,col in enumerate(num_columns,1):\n",
    "    plt.subplot(8,4,i)\n",
    "    sns.kdeplot(forest_fires[col],color='g',shade=True)\n",
    "    plt.subplot(8,4,i+10)\n",
    "    forest_fires[col].plot.box()\n",
    "plt.tight_layout() \n",
    "plt.show()\n",
    "num_data = forest_fires[num_columns]\n",
    "pd.DataFrame(data=[num_data.skew(),num_data.kurtosis()],\n",
    "                     index=['skewness','kurtosis'])"
   ]
  },
  {
   "cell_type": "markdown",
   "metadata": {
    "id": "Uh1jr6UIGohC"
   },
   "source": [
    "Observations:-\n",
    "*   Skewness and Kurtosis (high positive and negative) was observed in the following columns:\n",
    "  *   FFMC\n",
    "  *   ISI\n",
    "  *   Rain\n",
    "\n",
    "\n",
    "\n"
   ]
  },
  {
   "cell_type": "markdown",
   "metadata": {
    "id": "4Gut-lFEHFvj"
   },
   "source": [
    "**2.Bivariate Analysis on Target Variable**"
   ]
  },
  {
   "cell_type": "code",
   "execution_count": null,
   "metadata": {
    "colab": {
     "base_uri": "https://localhost:8080/"
    },
    "id": "6QlEv341JBir",
    "outputId": "f8f4f865-b75b-4d41-9a13-9dbb34f733fb",
    "scrolled": true
   },
   "outputs": [],
   "source": [
    "print(forest_fires['area'].describe(),'\\n')\n",
    "print(area_outliers)"
   ]
  },
  {
   "cell_type": "code",
   "execution_count": null,
   "metadata": {
    "colab": {
     "base_uri": "https://localhost:8080/",
     "height": 217
    },
    "id": "WRQDyhdtHCIB",
    "outputId": "3fe163b5-3972-4f47-b9a2-6c4bd0d4a1d2"
   },
   "outputs": [],
   "source": [
    "# a categorical variable based on forest fire area damage\n",
    "# No damage, low, moderate, high, very high\n",
    "def area_cat(area):\n",
    "    if area == 0.0:\n",
    "        return \"No damage\"\n",
    "    elif area <= 1:\n",
    "        return \"low\"\n",
    "    elif area <= 25:\n",
    "        return \"moderate\"\n",
    "    elif area <= 100:\n",
    "        return \"high\"\n",
    "    else:\n",
    "        return \"very high\"\n",
    "forest_fires['damage_category'] = forest_fires['area'].\n",
    "                                    apply(area_cat)\n",
    "forest_fires.head()"
   ]
  },
  {
   "cell_type": "markdown",
   "metadata": {},
   "source": [
    "adding a categorical variable called \"damage_category\" this is based on the area burnt. So if the burnt area is equal to zero it is categorized as \"No damage\", the burnt area is less than or equal to 1 it is \"low\", if the brunt area is less than or equal to 25 it is \"moderate\" and if the brunt area is less than or equal to 100 it is \"high\""
   ]
  },
  {
   "cell_type": "markdown",
   "metadata": {
    "id": "ZHJyYn5mJwRm"
   },
   "source": [
    "Categorical Columns"
   ]
  },
  {
   "cell_type": "code",
   "execution_count": null,
   "metadata": {
    "colab": {
     "base_uri": "https://localhost:8080/"
    },
    "id": "3Bj3b7C6Jsbi",
    "outputId": "49901cae-2e13-473d-e4b7-60817d37bd06"
   },
   "outputs": [],
   "source": [
    "cat_columns"
   ]
  },
  {
   "cell_type": "code",
   "execution_count": null,
   "metadata": {
    "id": "YMyxQci_J0y-"
   },
   "outputs": [],
   "source": [
    "#Forestfire damage each month and each day\n",
    "for col in cat_columns:\n",
    "    cross = pd.crosstab(index=forest_fires['damage_category'],\n",
    "                columns=forest_fires[col],normalize='index')\n",
    "    cross.plot.barh(stacked=True,rot=40,cmap='hot')\n",
    "    plt.xlabel('% distribution per category')\n",
    "    plt.xticks(np.arange(0,1.1,0.1))\n",
    "    plt.title(\"Forestfire damage each {}\".format(col))\n",
    "plt.show()"
   ]
  },
  {
   "cell_type": "markdown",
   "metadata": {},
   "source": [
    "Observations:-\n",
    "* In the previous observations, we can see that highest number of fires are occured in the month of August and September. From the above plot of month, the below two are the things we can understand   \n",
    "    * Most of the area for the fires occured in August is low less than 1 hectare\n",
    "    * Also, we can infer that highest damage to the area is done in July, August and September that is more that 100 hectares\n",
    "* Regarding the fire damage per day, there were no very high damaging fires on Friday and on Saturdays it has been reported the most."
   ]
  },
  {
   "cell_type": "markdown",
   "metadata": {},
   "source": [
    "Numerical Columns"
   ]
  },
  {
   "cell_type": "code",
   "execution_count": null,
   "metadata": {},
   "outputs": [],
   "source": [
    "plt.figure(figsize=(20,40))\n",
    "for i,col in enumerate(num_columns,1):\n",
    "    plt.subplot(10,1,i)\n",
    "    if col in ['X','Y']:\n",
    "        sns.swarmplot(data=forest_fires,x=col,y=target,\n",
    "                              hue='damage_category')\n",
    "    else:\n",
    "        sns.scatterplot(data=forest_fires,x=col,y=target,\n",
    "                                hue='damage_category')\n",
    "plt.show()"
   ]
  },
  {
   "cell_type": "markdown",
   "metadata": {},
   "source": [
    "**3.Multivariate Analysis**"
   ]
  },
  {
   "cell_type": "code",
   "execution_count": null,
   "metadata": {},
   "outputs": [],
   "source": [
    "selected_features = forest_fires.drop(columns=\n",
    "        ['damage_category','day','month']).columns\n",
    "selected_features"
   ]
  },
  {
   "cell_type": "code",
   "execution_count": null,
   "metadata": {},
   "outputs": [],
   "source": [
    "sns.pairplot(forest_fires,hue='damage_category',\n",
    "             vars=selected_features)\n",
    "plt.show()"
   ]
  },
  {
   "cell_type": "markdown",
   "metadata": {},
   "source": []
  },
  {
   "cell_type": "markdown",
   "metadata": {},
   "source": [
    "**Outlier Treatment**\n",
    "\n",
    "We had observed outliers in the following columns:\n",
    "area\n",
    "FFMC\n",
    "ISI\n",
    "rain"
   ]
  },
  {
   "cell_type": "code",
   "execution_count": null,
   "metadata": {},
   "outputs": [],
   "source": [
    "out_columns = ['area','FFMC','ISI','rain']"
   ]
  },
  {
   "cell_type": "markdown",
   "metadata": {},
   "source": [
    "However, the above outliers are not error values so we cannot remove it.\n",
    "In order to minimize the effect of outliers in our model we will transform the above features."
   ]
  },
  {
   "cell_type": "markdown",
   "metadata": {},
   "source": [
    "**Preparing the data for Modelling**"
   ]
  },
  {
   "cell_type": "code",
   "execution_count": null,
   "metadata": {
    "scrolled": true
   },
   "outputs": [],
   "source": [
    "#encoding categorical columns\n",
    "df1_ff = pd.get_dummies(forest_fires,columns=\n",
    "                ['day','month'],drop_first=True)"
   ]
  },
  {
   "cell_type": "code",
   "execution_count": null,
   "metadata": {},
   "outputs": [],
   "source": [
    "#data transformations like log,root,inverse,exponential etc.,\n",
    "print(df1_ff[out_columns].describe())\n",
    "np.log1p(df1_ff[out_columns]).skew(),\n",
    "        np.log1p(df1_ff[out_columns]).kurtosis()"
   ]
  },
  {
   "cell_type": "code",
   "execution_count": null,
   "metadata": {},
   "outputs": [],
   "source": [
    "# FFMC and rain both have very high skew and kurtosis values, since we are using linear regression model we cannot operate with high such values\n",
    "# so for FFMC we can remove the outliers in them using z-score method\n",
    "mask = df1_ff.loc[:,['FFMC']].apply(zscore).abs()<3\n",
    "\n",
    "# Since most of the values in rain are 0.0, we can convert it as a categorical column\n",
    "df1_ff['rain'] = df1_ff['rain'].apply(lambda x: int(x > 0.0))\n",
    "\n",
    "df1_ff = df1_ff[mask.values]\n",
    "df1_ff.shape"
   ]
  },
  {
   "cell_type": "code",
   "execution_count": null,
   "metadata": {},
   "outputs": [],
   "source": [
    "out_columns.remove('rain')\n",
    "df1_ff[out_columns] = np.log1p(df1_ff[out_columns])\n",
    "df1_ff[out_columns].skew()"
   ]
  },
  {
   "cell_type": "code",
   "execution_count": null,
   "metadata": {},
   "outputs": [],
   "source": [
    "# we will use this dataframe for building our ML model\n",
    "df_ml = df1_ff.drop(columns=['damage_category']).copy()"
   ]
  },
  {
   "cell_type": "markdown",
   "metadata": {},
   "source": [
    "## Linear Regression"
   ]
  },
  {
   "cell_type": "markdown",
   "metadata": {},
   "source": [
    "we will be working on Linear regression using both Statistical and Machine learning approach."
   ]
  },
  {
   "cell_type": "code",
   "execution_count": null,
   "metadata": {},
   "outputs": [],
   "source": [
    "X = df_ml.drop(columns=['area'])\n",
    "y = df_ml['area']\n",
    "head(df_ml)"
   ]
  },
  {
   "cell_type": "markdown",
   "metadata": {},
   "source": [
    "## 1.Statistical Approach"
   ]
  },
  {
   "cell_type": "markdown",
   "metadata": {},
   "source": [
    "Checking assumptions for linear regression in statistics\n",
    "\n",
    "Linearity of model\n",
    "\n",
    "Normality of residuals\n",
    "\n",
    "Homoscedasticity\n",
    "\n",
    "No Autocorrelation\n",
    "\n",
    "Multicollinearity"
   ]
  },
  {
   "cell_type": "code",
   "execution_count": null,
   "metadata": {},
   "outputs": [],
   "source": [
    "X_constant = sm.add_constant(X)\n",
    "\n",
    "# Build OLS model\n",
    "lin_reg = sm.OLS(y,X_constant).fit()\n",
    "lin_reg.summary()"
   ]
  },
  {
   "cell_type": "markdown",
   "metadata": {},
   "source": [
    "**1. Linearity of Residuals**\n",
    " - Linearity can be measured by two methods:-\n",
    "     - Rainbow test\n",
    "     - Plot the observed values Vs predicted values and plot the Residual Vs predicted values and see the linearity of residuals."
   ]
  },
  {
   "cell_type": "code",
   "execution_count": null,
   "metadata": {},
   "outputs": [],
   "source": [
    "#Rainbow Test\n",
    "import scipy.stats as stats\n",
    "import pylab\n",
    "\n",
    "# get an instance of Influence with influence and outlier measures \n",
    "st_resid = lin_reg.get_influence().resid_studentized_internal\n",
    "stats.probplot(st_resid,dist=\"norm\",plot=pylab)\n",
    "plt.show()"
   ]
  },
  {
   "cell_type": "markdown",
   "metadata": {},
   "source": [
    "- Null hypothesis (H0): The Null hypothesis is that the regression is correctly modeled as linear.\n",
    "- Alternate hypothesis(H1): The model is non-linear"
   ]
  },
  {
   "cell_type": "code",
   "execution_count": null,
   "metadata": {},
   "outputs": [],
   "source": [
    "# return fstat and p-value\n",
    "sm.stats.diagnostic.linear_rainbow(lin_reg)"
   ]
  },
  {
   "cell_type": "code",
   "execution_count": null,
   "metadata": {},
   "outputs": [],
   "source": [
    "# The mean expected value around 0, it implies linearity is preserved\n",
    "lin_reg.resid.mean()"
   ]
  },
  {
   "cell_type": "markdown",
   "metadata": {},
   "source": [
    "Linearity Test - Function for visually inspecting the assumption of linearity in a linear regression model.\n",
    "                 It plots observed vs. predicted values and residuals vs. predicted values.    \n",
    "    Args\n",
    "    \n",
    "    model - fitted OLS model from statsmodels\n",
    "    y - observed values"
   ]
  },
  {
   "cell_type": "code",
   "execution_count": null,
   "metadata": {},
   "outputs": [],
   "source": [
    "def linearity_test(model, y):   \n",
    "    fitted_vals = model.predict()\n",
    "    resids = model.resid\n",
    "\n",
    "    fig, ax = plt.subplots(1,2,figsize=(15,5))\n",
    "\n",
    "    sns.regplot(x=fitted_vals, y=y, lowess=True, \n",
    "                ax=ax[0], line_kws={'color': 'red'})\n",
    "    ax[0].set_title('Observed vs. Predicted Values', fontsize=16)\n",
    "    ax[0].set(xlabel='Predicted', ylabel='Observed')\n",
    "\n",
    "    sns.regplot(x=fitted_vals, y=resids, lowess=True, \n",
    "                ax=ax[1], line_kws={'color': 'red'})\n",
    "    ax[1].set_title('Residuals vs. Predicted Values', fontsize=16)\n",
    "    ax[1].set(xlabel='Predicted', ylabel='Residuals')\n",
    "    \n",
    "linearity_test(lin_reg, y) \n",
    "plt.tight_layout()"
   ]
  },
  {
   "cell_type": "markdown",
   "metadata": {},
   "source": [
    "The desired outcome of plots is that points are symmetrically distributed around a diagonal line in the former plot or around horizontal line in the latter one.\n",
    "- By observing the plots the linearity assumption is not there\n",
    "- Adding new features might result in linearity of model\n",
    "- Also, transforming the feature from non-linear to linear using various data transformation techniques can help."
   ]
  },
  {
   "cell_type": "markdown",
   "metadata": {},
   "source": [
    "**2.Normality of the Residuals**"
   ]
  },
  {
   "cell_type": "code",
   "execution_count": null,
   "metadata": {},
   "outputs": [],
   "source": [
    "sns.distplot(lin_reg.resid,fit=stats.norm)\n",
    "plt.text(4,0.5,f\"Skewness: {round(lin_reg.resid.skew(),2)}\",\n",
    "                                             fontsize=15)\n",
    "plt.show()"
   ]
  },
  {
   "cell_type": "code",
   "execution_count": null,
   "metadata": {},
   "outputs": [],
   "source": [
    "sm.qqplot(lin_reg.resid,line ='r')\n",
    "jb = [round(n,2) for n in stats.jarque_bera(lin_reg.resid)]\n",
    "plt.text(-2,4,f\"Jarque bera: {jb}\",fontsize=15)\n",
    "plt.show()"
   ]
  },
  {
   "cell_type": "markdown",
   "metadata": {},
   "source": [
    "Test for normality: Jarque Bera\n",
    "\n",
    "For a good model, the residuals should be normally distributed. The higher the value of Jarque Bera test, the lesser the residuals are normally distributed.\n",
    "\n",
    "The Jarque–Bera test is a goodness-of-fit test of whether sample data have the skewness and kurtosis matching a normal distribution.\n",
    "\n",
    "Jarque-Bera (JB): 104.39\n",
    "\n",
    "The jarque bera test tests whether the sample data has the skewness and kurtosis matching a normal distribution.\n",
    "\n",
    "Note that this test generally works good for large enough number of data samples(>2000) as the test statistics asymptotically has a chi squared distribution with degrees 2 of freedom.\n",
    "\n",
    "Our dataframe length, 517\n",
    "\n",
    "Null hypothesis (H0) - Residuals are normally distributed"
   ]
  },
  {
   "cell_type": "markdown",
   "metadata": {},
   "source": [
    "- The p-value is 0 which simply means we can reject out NULL hypothesis. We can fix that by\n",
    "    - Removing the outliers in the data\n",
    "    - Fixing the Non-linearity in our dependent or target feature\n",
    "    - Removing the bias, the bias might be contributing to the non-normality."
   ]
  },
  {
   "cell_type": "markdown",
   "metadata": {},
   "source": [
    "**3.Homoscedasticity**\n",
    "\n",
    "Homoscedacity: If the residuals are symmetrically distributed across the trend , then it is called as homoscedacious.\n",
    "\n",
    "Heteroscedacity: If the residuals are not symmetric across the trend, then it is called as heteroscedacious.\n",
    "\n",
    "Goldfeld-Quandt test for Homoscedasticity\n",
    "\n",
    "H0 = constant variance among residuals (Homoscedacity)\n",
    "\n",
    "Ha = Heteroscedacity."
   ]
  },
  {
   "cell_type": "code",
   "execution_count": null,
   "metadata": {},
   "outputs": [],
   "source": [
    "sms.het_goldfeldquandt(lin_reg.resid, lin_reg.model.exog)"
   ]
  },
  {
   "cell_type": "code",
   "execution_count": null,
   "metadata": {},
   "outputs": [],
   "source": [
    "model = lin_reg\n",
    "fitted_vals = model.predict()\n",
    "resids = model.resid\n",
    "resids_standardized = model.get_influence().resid_studentized_internal\n",
    "\n",
    "fig, ax = plt.subplots(1,2)\n",
    "\n",
    "sns.regplot(x=fitted_vals, y=resids, lowess=True, \n",
    "            ax=ax[0], line_kws={'color': 'red'})\n",
    "ax[0].set_title('Predicted vs Residuals', fontsize=16)\n",
    "ax[0].set(xlabel='Predicted Values', ylabel='Residuals')\n",
    "\n",
    "sns.regplot(x=fitted_vals, y=np.sqrt(np.abs(resids_standardized)), \n",
    "            lowess=True, ax=ax[1], line_kws={'color': 'red'})\n",
    "ax[1].set_title('Scale-Location', fontsize=16)\n",
    "ax[1].set(xlabel='Predicted Values', ylabel='sqrt(abs(Residuals))')\n",
    "\n",
    "name = ['F statistic', 'p-value']\n",
    "test = sms.het_goldfeldquandt(model.resid, model.model.exog)\n",
    "lzip(name, test)\n",
    "plt.tight_layout()"
   ]
  },
  {
   "cell_type": "markdown",
   "metadata": {},
   "source": [
    "- To identify homoscedasticity in the plots, the placement of the points should be equally distributed, random, no pattern (increase/decrease in values of residuals) should be visible and a flat red line.\n",
    "- In the plots we can see there are no paticular patterns and P-Values is also greater than 0.05 ,so we can say that there is homoscedasticity.\n",
    "- Outliers can make it Heteroscedacious, Transforming (log or Box cox, if > 0) the dependent or independent variables can help fix it."
   ]
  },
  {
   "cell_type": "markdown",
   "metadata": {},
   "source": [
    "**4.No Autocorrelation**\n",
    "Autocorrelation measures the relationship between a variable's current value and its past values.\n",
    "\n",
    "Test for autocorrelation : Durbin- Watson Test\n",
    "\n",
    "It's test statistic value ranges from 0-4. If the value is between\n",
    "- 0-2, it's known as Positive Autocorrelation.\n",
    "- 2-4, it is known as Negative autocorrelation.\n",
    "- exactly 2, it means No Autocorrelation.\n",
    "\n",
    "For a good linear model, it should have low or no autocorrelation."
   ]
  },
  {
   "cell_type": "code",
   "execution_count": null,
   "metadata": {},
   "outputs": [],
   "source": [
    "from statsmodels.stats.stattools import durbin_watson\n",
    "durbin_watson(lin_reg.resid)"
   ]
  },
  {
   "cell_type": "code",
   "execution_count": null,
   "metadata": {},
   "outputs": [],
   "source": [
    "import statsmodels.tsa.api as smt\n",
    "# Confidence intervals are drawn as a cone. \n",
    "# By default, this is set to a 95% confidence interval, \n",
    "# suggesting that correlation values outside of this code are very likely a correlation \n",
    "# and not a statistical fluke\n",
    "acf = smt.graphics.plot_acf(lin_reg.resid, lags=50 , alpha=0.05)\n",
    "acf.show()"
   ]
  },
  {
   "cell_type": "markdown",
   "metadata": {},
   "source": [
    "- By observing the above data we can say that there is positive autocorrelation is present , we can reduce it by using fine tuning our parameters\n",
    "- We can even use Generalize Least Squares (GLS) model"
   ]
  },
  {
   "cell_type": "markdown",
   "metadata": {},
   "source": [
    "**5.Multicollinearity**\n",
    "\n",
    "Multicollineariy arises when one independent variable can be linearly predicted by others with a substantial level of accuracy."
   ]
  },
  {
   "cell_type": "code",
   "execution_count": null,
   "metadata": {},
   "outputs": [],
   "source": [
    "plt.figure(figsize =(16,10))\n",
    "\n",
    "sns.heatmap(df1_ff.corr(),annot=True,cmap='YlGnBu',fmt=\".2f\",cbar=False)\n",
    "plt.show()"
   ]
  },
  {
   "cell_type": "code",
   "execution_count": null,
   "metadata": {},
   "outputs": [],
   "source": [
    "from statsmodels.stats.outliers_influence import variance_inflation_factor\n",
    "\n",
    "vif = [variance_inflation_factor(X_constant.values, i) \n",
    "                   for i in range(X_constant.shape[1])]\n",
    "pd.DataFrame({'vif': vif[1:]}, index=X.columns).\n",
    "            sort_values(by=\"vif\",ascending=False)"
   ]
  },
  {
   "cell_type": "markdown",
   "metadata": {},
   "source": [
    "There is multicollinearity present between some features where vif >5.\n",
    "- We can even use PCA to reduce features to a smaller set of uncorrelated components.\n",
    "- To deal with multicollinearity we should iteratively remove features with high values of VIF."
   ]
  },
  {
   "cell_type": "markdown",
   "metadata": {},
   "source": [
    "## 2.Machine Learning Approach"
   ]
  },
  {
   "cell_type": "code",
   "execution_count": null,
   "metadata": {},
   "outputs": [],
   "source": [
    "lr = LinearRegression()\n",
    "lr.fit(X, y)\n",
    "\n",
    "print(f'Intercept: {lr.intercept_}')\n",
    "print(f'R^2 score: {lr.score(X, y)}')\n",
    "pd.DataFrame({\"Coefficients\": lr.coef_}, index=X.columns)"
   ]
  },
  {
   "cell_type": "markdown",
   "metadata": {},
   "source": [
    "**Improving Stats Model**\n",
    "\n",
    "Dropping columns to improve accuracy:\n",
    "\n",
    "By checking high Variance inflation factor and p-value we will decide whether to keep the column or drop it.\n",
    "\n",
    "R^2 = 1 - SSE(Sum of Square of Residuals)/SST (Sum of square Total)\n",
    "\n",
    "Just by dropping constant we got a huge bump in adjusted R2 from 2.5% to 40.6%."
   ]
  },
  {
   "cell_type": "code",
   "execution_count": null,
   "metadata": {},
   "outputs": [],
   "source": [
    "X = df1_ff.drop(columns=['area','damage_category'])\n",
    "y = df1_ff['area']"
   ]
  },
  {
   "cell_type": "code",
   "execution_count": null,
   "metadata": {},
   "outputs": [],
   "source": [
    "def check_stats(X,y):\n",
    "    vif = [variance_inflation_factor(X.values, i) for\n",
    "                               i in range(X.shape[1])]\n",
    "    print(pd.DataFrame({'vif': vif}, index=X.columns).\n",
    "              sort_values(by=\"vif\",ascending=False)[:10])\n",
    "    lin_reg = sm.OLS(y,X).fit()\n",
    "    print(lin_reg.summary())\n",
    "check_stats(X,y)"
   ]
  },
  {
   "cell_type": "code",
   "execution_count": null,
   "metadata": {},
   "outputs": [],
   "source": [
    "# dropping FFMC, Y, month_jul, day_thu, day_mon, month_aug as P-value is high\n",
    "X.drop(columns=['FFMC'],inplace=True)\n",
    "X.drop(columns=['Y'],inplace=True)\n",
    "X.drop(columns=['month_jul'],inplace=True)\n",
    "X.drop(columns=['day_thu'],inplace=True)\n",
    "X.drop(columns=['day_mon'],inplace=True)\n",
    "X.drop(columns=['month_aug'],inplace=True)\n",
    "check_stats(X,y)"
   ]
  },
  {
   "cell_type": "markdown",
   "metadata": {},
   "source": [
    "Similarly, you can continue to optimize the model.\n",
    "\n",
    "Our Prob (F-statistic) has improved from  7.32e-45 to 2.20e-48. As the value is less than 0.05, the model becomes more significant."
   ]
  },
  {
   "cell_type": "markdown",
   "metadata": {},
   "source": [
    "**Improving ML model**\n",
    "\n",
    "Feature Selection techniques\n",
    "\n",
    "The following can be used for selecting relevant features for model building\n",
    "\n",
    "- Using Pearson Correlation\n",
    "- Wrapper method\n",
    "    - Forward Selection: Forward selection is an iterative method in which we start with having no feature in the model. In each       iteration, we keep adding the feature which best improves our model till an addition of a new variable does not improve         the performance of the model.\n",
    "    - Backward Elimination: In backward elimination, we start with all the features and removes the least significant feature at       each iteration which improves the performance of the model. We repeat this until no improvement is observed on removal of       features.\n",
    "    - Recursive Feature elimination: It is a greedy optimization algorithm which aims to find the best performing feature             subset. It repeatedly creates models and keeps aside the best or the worst performing feature at each iteration. It             constructs the next model with the left features until all the features are exhausted. It then ranks the features based on       the order of their elimination.\n",
    "- Embedded method, lasso is one such method which penalizes features based on feature importance, making lesss important feature to 0.\n"
   ]
  },
  {
   "cell_type": "code",
   "execution_count": null,
   "metadata": {},
   "outputs": [],
   "source": [
    "X_m, y_m = df_ml.drop(columns=[target]), df_ml[target]"
   ]
  },
  {
   "cell_type": "markdown",
   "metadata": {},
   "source": [
    "Recursive Feature Elimination"
   ]
  },
  {
   "cell_type": "code",
   "execution_count": null,
   "metadata": {},
   "outputs": [],
   "source": [
    "# RFECV is a variant with inbuilt Cross validation\n",
    "model = LinearRegression()\n",
    "selector = RFECV(model,cv=5)\n",
    "selector = selector.fit(X_m, y_m)\n",
    "print(f\"Out of {len(X_m.columns)} features, \n",
    "      best number of features {selector.n_features_}\")\n",
    "plt.figure()\n",
    "plt.xlabel(\"Number of features selected\")\n",
    "plt.ylabel(\"Cross validation score\")\n",
    "plt.plot(range(1, len(X_m.columns) + 1), selector.grid_scores_)\n",
    "print(X_m.columns[selector.support_].values)\n",
    "plt.show()"
   ]
  },
  {
   "cell_type": "code",
   "execution_count": null,
   "metadata": {
    "scrolled": true
   },
   "outputs": [],
   "source": [
    "# In our stats method we found that the intercept was not relevant \n",
    "# Let's try that feature out in our ML model\n",
    "model = LinearRegression(fit_intercept=False)\n",
    "selector = RFECV(model,cv=5)\n",
    "selector = selector.fit(X_m, y_m)\n",
    "print(f\"Out of {len(X_m.columns)} features, \n",
    "      best number of features {selector.n_features_}\")\n",
    "\n",
    "plt.figure()\n",
    "plt.xlabel(\"Number of features selected\")\n",
    "plt.ylabel(\"Cross validation score\")\n",
    "plt.plot(range(1, len(X_m.columns) + 1), selector.grid_scores_)\n",
    "print(X_m.columns[selector.support_].values)\n",
    "plt.show()"
   ]
  },
  {
   "cell_type": "markdown",
   "metadata": {},
   "source": [
    "Building model with the best features and checking the R2 score for the same"
   ]
  },
  {
   "cell_type": "code",
   "execution_count": null,
   "metadata": {},
   "outputs": [],
   "source": [
    "mask = selector.support_\n",
    "print(f\"Best features according to RFE {X_m.columns[mask].values}\")\n",
    "\n",
    "X_m1 = X_m.iloc[:,mask]\n",
    "# We could have used train test split or cross validation strategies\n",
    "# for scoring the model but in order to compare with the stats model \n",
    "# we will use the whole data\n",
    "model1 = LinearRegression().fit(X_m1,y_m)\n",
    "print(f\"R2 Score: {model1.score(X_m1,y_m)}\")"
   ]
  },
  {
   "cell_type": "markdown",
   "metadata": {},
   "source": [
    "Forward Selection"
   ]
  },
  {
   "cell_type": "code",
   "execution_count": null,
   "metadata": {},
   "outputs": [],
   "source": [
    "model = LinearRegression(fit_intercept=False)\n",
    "sfs1 = sfs(model,k_features=20,forward=True,scoring='r2',cv=5)\n",
    "sfs1.fit(X_m,y_m)\n",
    "fig = plot_sfs(sfs1.get_metric_dict())\n",
    "plt.title('Forward Selection')\n",
    "plt.grid()\n",
    "plt.show()"
   ]
  },
  {
   "cell_type": "code",
   "execution_count": null,
   "metadata": {},
   "outputs": [],
   "source": [
    "print(sfs1.k_features, sfs1.k_feature_names_,sep=\"\\n\")"
   ]
  },
  {
   "cell_type": "code",
   "execution_count": null,
   "metadata": {},
   "outputs": [],
   "source": [
    "index = list(sfs1.k_feature_idx_)\n",
    "X_m1 = X_m.iloc[:,index]\n",
    "model1 = LinearRegression().fit(X_m1,y_m)\n",
    "print(f\"R2 Score: {model1.score(X_m1,y_m)}\")"
   ]
  },
  {
   "cell_type": "markdown",
   "metadata": {},
   "source": [
    "Backward Selection"
   ]
  },
  {
   "cell_type": "code",
   "execution_count": null,
   "metadata": {},
   "outputs": [],
   "source": [
    "model = LinearRegression(fit_intercept=False)\n",
    "sfs1 = sfs(model,k_features=6,forward=False,scoring='r2',cv=5)\n",
    "sfs1.fit(X_m,y_m)\n",
    "fig = plot_sfs(sfs1.get_metric_dict())\n",
    "plt.title('Backward Selection')\n",
    "plt.grid(True)\n",
    "plt.show()"
   ]
  },
  {
   "cell_type": "code",
   "execution_count": null,
   "metadata": {},
   "outputs": [],
   "source": [
    "index = list(sfs1.k_feature_idx_)\n",
    "print(f\"Best features according to RFE: {X_m.columns[index]}\")\n",
    "\n",
    "X_m1 = X_m.iloc[:,index]\n",
    "model1 = LinearRegression().fit(X_m1,y_m)\n",
    "print(f\"R2 Score: {model1.score(X_m1,y_m)}\")"
   ]
  },
  {
   "cell_type": "markdown",
   "metadata": {},
   "source": [
    "Overall Summary:-\n",
    "\n",
    "- After doing Univariate Analysis as the target variable as Area, \n",
    "      - we can determine that the data is highly skewed and it has huge kurtosis value, \n",
    "      - also most of the damaged area is under 50 hectares of land for majority of the forest fires occured.\n",
    "      - Skewness and Kurtosis was observed in FFMC, ISI and Rain\n",
    "\n",
    "- The highest number of fires occured in the month of August and September.\n",
    "- In case of days, sunday and fridays have more number of fires.\n",
    "\n",
    "- Later to understand the data more I did a Bivariate Analysis, by adding a categorical variable called \"damange_category\"\n",
    "      - the area brunt in August beacuse of forest fires is less than 1 hectare\n",
    "\t  - the area brunt in July, August and September is more that 100 hectare, this is where the highest damage is occured to           area\n",
    "\t  - there were no very high damaging fires on Friday and on Saturdays, so the area brunt is less\t\n",
    "\n",
    "- FFMC and rain both have very high skew and kurtosis values, since we are using linear regression model we cannot operate with high such values. So for FFMC we can remove the outliers in them using z-score method and rain is taken care by using lambda functions.\n",
    "\n",
    "- I did Linear Regression using both statistical and machine learning approach, here I didnt train any databecause we are trying   to predict the burnt area with the existing columns itself.\t\n",
    "      - By default, statsmodels fits a line passing through the origin, i.e. it doesn't fit an intercept. \n",
    "\t  - Hence, used 'add_constant' so that it also fits an intercept.\n",
    "\t  - R squared of the statistical model is 0.077 and F-statistic value is 1.489.\n",
    "\n",
    "- Checking assumptions for linear regression in statistics.\n",
    "1. Linearity of model:- used rainbow test and plotted observed values Vs predicted values, residual Vs predicted values.\n",
    "    From the rainbow test the mean value is not around zero and through plots we can observe that the plots are not linear.\n",
    "2. Normality of the Residuals:- Normality can be verified by conducting a Jarque Bera Test. \n",
    "                     The higher the value of Jarque Bera test, the lesser the residuals are normally distributed.\n",
    "\t\t\t\t\t The value of Jarque-Bera test is 104.39, meaning the residuals are not normally distributed.\n",
    "3. Homoscedasticity:- used Goldfeld-Quandt test for HomoscedasticityIn the plots we can see there are no paticular patterns and                      P-Values is also greater than 0.05, so we can say that there is homoscedasticity. \n",
    "4. No Autocorrelation:- Test for autocorrelation is by Durbin- Watson Test. With a value of 0.97 the model is considered to be in a positive autocorelation.\n",
    "5. Multicollinearity:- Multicollinearity is calculated using VIF, the values with VIF greater than 5 are condidered to be multicollinear.\n",
    "\n",
    "- R squared value using Machine Learning approach is 0.07\n",
    "\n",
    "- Improved the stats model by dropping high Variance inflation factor and p-value columns.\n",
    "  then the R squared value is 0.438 and F-statistic value is 13 which is considered to be very good model.\n",
    "\n",
    "- Improved machine learning model by implementing wrappers methods,\n",
    "    - using Recursive Feature Elimination - derived the 19 best features and R squared value is 0.055\n",
    "    - using Forwrad Selection - 20 best features were derived with a R squared value of 0.054\n",
    "    - using Backwrad Selection - 6 best features were derived with a R squared value of 0.018\n",
    "\n",
    "- Hence the improved stats model is the best model.\n"
   ]
  },
  {
   "cell_type": "markdown",
   "metadata": {},
   "source": [
    "Reference :-\n",
    "\n",
    "https://www.datarobot.com/blog/ordinary-least-squares-in-python/\n",
    "https://www.jmp.com/en_us/statistics-knowledge-portal/what-is-regression/simple-linear-regression-assumptions.html\n",
    "https://www.statisticssolutions.com/free-resources/directory-of-statistical-analyses/assumptions-of-linear-regression/\n",
    "https://www.analyticsvidhya.com/blog/2020/07/univariate-analysis-visualization-with-illustrations-in-python/\n",
    "https://www.analyticsvidhya.com/blog/2022/02/a-quick-guide-to-bivariate-analysis-in-python/\n",
    "https://www.statsmodels.org/dev/generated/statsmodels.stats.diagnostic.het_goldfeldquandt.html\n",
    "https://www.statology.org/durbin-watson-test-python/\n",
    "https://stackoverflow.com/questions/58410187/how-to-plot-predicted-values-vs-the-true-value\n",
    "https://www.statology.org/jarque-bera-test-python/\n",
    "https://machinelearningmastery.com/rfe-feature-selection-in-python/\n",
    "https://towardsdatascience.com/feature-selection-with-pandas-e3690ad8504b\n",
    "https://machinelearningmastery.com/rfe-feature-selection-in-python/\n",
    "https://fivestepguide.com/technology/machine-learning/backward-elimination-code-in-python-0321/"
   ]
  }
 ],
 "metadata": {
  "colab": {
   "collapsed_sections": [],
   "name": "Stats_Project",
   "provenance": []
  },
  "kernelspec": {
   "display_name": "Python 3 (ipykernel)",
   "language": "python",
   "name": "python3"
  },
  "language_info": {
   "codemirror_mode": {
    "name": "ipython",
    "version": 3
   },
   "file_extension": ".py",
   "mimetype": "text/x-python",
   "name": "python",
   "nbconvert_exporter": "python",
   "pygments_lexer": "ipython3",
   "version": "3.9.7"
  }
 },
 "nbformat": 4,
 "nbformat_minor": 1
}
